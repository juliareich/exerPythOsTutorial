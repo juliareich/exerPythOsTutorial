{
 "metadata": {
  "language_info": {
   "codemirror_mode": {
    "name": "ipython",
    "version": 3
   },
   "file_extension": ".py",
   "mimetype": "text/x-python",
   "name": "python",
   "nbconvert_exporter": "python",
   "pygments_lexer": "ipython3",
   "version": "3.8.3-final"
  },
  "orig_nbformat": 2,
  "kernelspec": {
   "name": "python_defaultSpec_1599051147171",
   "display_name": "Python 3.8.3 64-bit ('base': conda)"
  }
 },
 "nbformat": 4,
 "nbformat_minor": 2,
 "cells": [
  {
   "cell_type": "code",
   "execution_count": 7,
   "metadata": {
    "tags": []
   },
   "outputs": [],
   "source": [
    "import os\n"
   ]
  },
  {
   "cell_type": "code",
   "execution_count": 8,
   "metadata": {
    "tags": []
   },
   "outputs": [
    {
     "output_type": "stream",
     "name": "stdout",
     "text": "['CLD_CONTINUED', 'CLD_DUMPED', 'CLD_EXITED', 'CLD_TRAPPED', 'DirEntry', 'EX_CANTCREAT', 'EX_CONFIG', 'EX_DATAERR', 'EX_IOERR', 'EX_NOHOST', 'EX_NOINPUT', 'EX_NOPERM', 'EX_NOUSER', 'EX_OK', 'EX_OSERR', 'EX_OSFILE', 'EX_PROTOCOL', 'EX_SOFTWARE', 'EX_TEMPFAIL', 'EX_UNAVAILABLE', 'EX_USAGE', 'F_LOCK', 'F_OK', 'F_TEST', 'F_TLOCK', 'F_ULOCK', 'MutableMapping', 'NGROUPS_MAX', 'O_ACCMODE', 'O_APPEND', 'O_ASYNC', 'O_CLOEXEC', 'O_CREAT', 'O_DIRECTORY', 'O_DSYNC', 'O_EXCL', 'O_EXLOCK', 'O_NDELAY', 'O_NOCTTY', 'O_NOFOLLOW', 'O_NONBLOCK', 'O_RDONLY', 'O_RDWR', 'O_SHLOCK', 'O_SYNC', 'O_TRUNC', 'O_WRONLY', 'POSIX_SPAWN_CLOSE', 'POSIX_SPAWN_DUP2', 'POSIX_SPAWN_OPEN', 'PRIO_PGRP', 'PRIO_PROCESS', 'PRIO_USER', 'P_ALL', 'P_NOWAIT', 'P_NOWAITO', 'P_PGID', 'P_PID', 'P_WAIT', 'PathLike', 'RTLD_GLOBAL', 'RTLD_LAZY', 'RTLD_LOCAL', 'RTLD_NODELETE', 'RTLD_NOLOAD', 'RTLD_NOW', 'R_OK', 'SCHED_FIFO', 'SCHED_OTHER', 'SCHED_RR', 'SEEK_CUR', 'SEEK_END', 'SEEK_SET', 'ST_NOSUID', 'ST_RDONLY', 'TMP_MAX', 'WCONTINUED', 'WCOREDUMP', 'WEXITED', 'WEXITSTATUS', 'WIFCONTINUED', 'WIFEXITED', 'WIFSIGNALED', 'WIFSTOPPED', 'WNOHANG', 'WNOWAIT', 'WSTOPPED', 'WSTOPSIG', 'WTERMSIG', 'WUNTRACED', 'W_OK', 'X_OK', '_Environ', '__all__', '__builtins__', '__cached__', '__doc__', '__file__', '__loader__', '__name__', '__package__', '__spec__', '_check_methods', '_execvpe', '_exists', '_exit', '_fspath', '_fwalk', '_get_exports_list', '_putenv', '_spawnvef', '_unsetenv', '_wrap_close', 'abc', 'abort', 'access', 'altsep', 'chdir', 'chflags', 'chmod', 'chown', 'chroot', 'close', 'closerange', 'confstr', 'confstr_names', 'cpu_count', 'ctermid', 'curdir', 'defpath', 'device_encoding', 'devnull', 'dup', 'dup2', 'environ', 'environb', 'error', 'execl', 'execle', 'execlp', 'execlpe', 'execv', 'execve', 'execvp', 'execvpe', 'extsep', 'fchdir', 'fchmod', 'fchown', 'fdopen', 'fork', 'forkpty', 'fpathconf', 'fsdecode', 'fsencode', 'fspath', 'fstat', 'fstatvfs', 'fsync', 'ftruncate', 'fwalk', 'get_blocking', 'get_exec_path', 'get_inheritable', 'get_terminal_size', 'getcwd', 'getcwdb', 'getegid', 'getenv', 'getenvb', 'geteuid', 'getgid', 'getgrouplist', 'getgroups', 'getloadavg', 'getlogin', 'getpgid', 'getpgrp', 'getpid', 'getppid', 'getpriority', 'getsid', 'getuid', 'initgroups', 'isatty', 'kill', 'killpg', 'lchflags', 'lchmod', 'lchown', 'linesep', 'link', 'listdir', 'lockf', 'lseek', 'lstat', 'major', 'makedev', 'makedirs', 'minor', 'mkdir', 'mkfifo', 'mknod', 'name', 'nice', 'open', 'openpty', 'pardir', 'path', 'pathconf', 'pathconf_names', 'pathsep', 'pipe', 'popen', 'posix_spawn', 'posix_spawnp', 'pread', 'putenv', 'pwrite', 'read', 'readlink', 'readv', 'register_at_fork', 'remove', 'removedirs', 'rename', 'renames', 'replace', 'rmdir', 'scandir', 'sched_get_priority_max', 'sched_get_priority_min', 'sched_yield', 'sendfile', 'sep', 'set_blocking', 'set_inheritable', 'setegid', 'seteuid', 'setgid', 'setgroups', 'setpgid', 'setpgrp', 'setpriority', 'setregid', 'setreuid', 'setsid', 'setuid', 'spawnl', 'spawnle', 'spawnlp', 'spawnlpe', 'spawnv', 'spawnve', 'spawnvp', 'spawnvpe', 'st', 'stat', 'stat_result', 'statvfs', 'statvfs_result', 'strerror', 'supports_bytes_environ', 'supports_dir_fd', 'supports_effective_ids', 'supports_fd', 'supports_follow_symlinks', 'symlink', 'sync', 'sys', 'sysconf', 'sysconf_names', 'system', 'tcgetpgrp', 'tcsetpgrp', 'terminal_size', 'times', 'times_result', 'truncate', 'ttyname', 'umask', 'uname', 'uname_result', 'unlink', 'unsetenv', 'urandom', 'utime', 'wait', 'wait3', 'wait4', 'waitpid', 'walk', 'write', 'writev']\n"
    }
   ],
   "source": [
    "print(dir(os))"
   ]
  },
  {
   "cell_type": "code",
   "execution_count": 10,
   "metadata": {
    "tags": []
   },
   "outputs": [
    {
     "output_type": "stream",
     "name": "stdout",
     "text": "/Users/juliareich/Desktop/Comp Sci Fundamentals/Module 2/exerPythOsTutorial\n"
    }
   ],
   "source": [
    "print(os.getcwd())"
   ]
  },
  {
   "cell_type": "code",
   "execution_count": 15,
   "metadata": {
    "tags": []
   },
   "outputs": [
    {
     "output_type": "stream",
     "name": "stdout",
     "text": "/Users/juliareich/Desktop/Comp Sci Fundamentals/Module 2/exerPythOsTutorial\n"
    }
   ],
   "source": [
    "os.chdir('/Users/juliareich/Desktop/Comp Sci Fundamentals/Module 2/exerPythOsTutorial')\n",
    "print(os.getcwd())"
   ]
  },
  {
   "cell_type": "code",
   "execution_count": 16,
   "metadata": {
    "tags": []
   },
   "outputs": [
    {
     "output_type": "stream",
     "name": "stdout",
     "text": "['README.md', '.git', 'OStutorial.ipynb']\n"
    }
   ],
   "source": [
    "print(os.listdir())"
   ]
  },
  {
   "cell_type": "code",
   "execution_count": 17,
   "metadata": {},
   "outputs": [],
   "source": [
    "os.mkdir('OS-Demo-2')"
   ]
  },
  {
   "cell_type": "code",
   "execution_count": 21,
   "metadata": {},
   "outputs": [
    {
     "output_type": "error",
     "ename": "FileExistsError",
     "evalue": "[Errno 17] File exists: 'OS-Demo-3/Sub-Dir-1'",
     "traceback": [
      "\u001b[0;31m---------------------------------------------------------------------------\u001b[0m",
      "\u001b[0;31mFileExistsError\u001b[0m                           Traceback (most recent call last)",
      "\u001b[0;32m<ipython-input-21-66ab83ad1d86>\u001b[0m in \u001b[0;36m<module>\u001b[0;34m\u001b[0m\n\u001b[0;32m----> 1\u001b[0;31m \u001b[0mos\u001b[0m\u001b[0;34m.\u001b[0m\u001b[0mmakedirs\u001b[0m\u001b[0;34m(\u001b[0m\u001b[0;34m'OS-Demo-3/Sub-Dir-1'\u001b[0m\u001b[0;34m)\u001b[0m\u001b[0;34m\u001b[0m\u001b[0;34m\u001b[0m\u001b[0m\n\u001b[0m",
      "\u001b[0;32m/opt/anaconda3/lib/python3.8/os.py\u001b[0m in \u001b[0;36mmakedirs\u001b[0;34m(name, mode, exist_ok)\u001b[0m\n\u001b[1;32m    221\u001b[0m             \u001b[0;32mreturn\u001b[0m\u001b[0;34m\u001b[0m\u001b[0;34m\u001b[0m\u001b[0m\n\u001b[1;32m    222\u001b[0m     \u001b[0;32mtry\u001b[0m\u001b[0;34m:\u001b[0m\u001b[0;34m\u001b[0m\u001b[0;34m\u001b[0m\u001b[0m\n\u001b[0;32m--> 223\u001b[0;31m         \u001b[0mmkdir\u001b[0m\u001b[0;34m(\u001b[0m\u001b[0mname\u001b[0m\u001b[0;34m,\u001b[0m \u001b[0mmode\u001b[0m\u001b[0;34m)\u001b[0m\u001b[0;34m\u001b[0m\u001b[0;34m\u001b[0m\u001b[0m\n\u001b[0m\u001b[1;32m    224\u001b[0m     \u001b[0;32mexcept\u001b[0m \u001b[0mOSError\u001b[0m\u001b[0;34m:\u001b[0m\u001b[0;34m\u001b[0m\u001b[0;34m\u001b[0m\u001b[0m\n\u001b[1;32m    225\u001b[0m         \u001b[0;31m# Cannot rely on checking for EEXIST, since the operating system\u001b[0m\u001b[0;34m\u001b[0m\u001b[0;34m\u001b[0m\u001b[0;34m\u001b[0m\u001b[0m\n",
      "\u001b[0;31mFileExistsError\u001b[0m: [Errno 17] File exists: 'OS-Demo-3/Sub-Dir-1'"
     ]
    }
   ],
   "source": [
    "os.makedirs('OS-Demo-3/Sub-Dir-1')\n"
   ]
  },
  {
   "cell_type": "code",
   "execution_count": 22,
   "metadata": {
    "tags": []
   },
   "outputs": [
    {
     "output_type": "stream",
     "name": "stdout",
     "text": "['OS-Demo-2', 'OS-Demo-3', 'README.md', '.git', 'OStutorial.ipynb']\n"
    }
   ],
   "source": [
    "print(os.listdir())"
   ]
  },
  {
   "cell_type": "code",
   "execution_count": 1,
   "metadata": {},
   "outputs": [],
   "source": [
    "os.rmdir('OS-Demo-2')"
   ]
  },
  {
   "cell_type": "code",
   "execution_count": 2,
   "metadata": {},
   "outputs": [],
   "source": [
    "os.removedirs('OS-Demo-3/Sub-Dir-1')"
   ]
  },
  {
   "cell_type": "code",
   "execution_count": 3,
   "metadata": {},
   "outputs": [],
   "source": [
    "os.makedirs('test dir')"
   ]
  },
  {
   "cell_type": "code",
   "execution_count": 4,
   "metadata": {},
   "outputs": [],
   "source": [
    "os.rename('test dir', 'demo test dir')"
   ]
  },
  {
   "cell_type": "code",
   "execution_count": 6,
   "metadata": {
    "tags": []
   },
   "outputs": [
    {
     "output_type": "stream",
     "name": "stdout",
     "text": "os.stat_result(st_mode=16877, st_ino=13188403, st_dev=16777220, st_nlink=2, st_uid=501, st_gid=20, st_size=64, st_atime=1599051452, st_mtime=1599051452, st_ctime=1599051452)\n"
    }
   ],
   "source": [
    "print(os.stat('demo test dir'))"
   ]
  },
  {
   "cell_type": "code",
   "execution_count": 7,
   "metadata": {
    "tags": []
   },
   "outputs": [
    {
     "output_type": "stream",
     "name": "stdout",
     "text": "2020-09-02 06:57:32\n"
    }
   ],
   "source": [
    "from datetime import datetime\n",
    "\n",
    "mod_time = os.stat('demo test dir').st_mtime\n",
    "print(datetime.fromtimestamp(mod_time))"
   ]
  },
  {
   "cell_type": "code",
   "execution_count": 24,
   "metadata": {
    "tags": [
     "outputPrepend"
    ]
   },
   "outputs": [
    {
     "output_type": "stream",
     "name": "stdout",
     "text": "liareich/Desktop/Comp Sci Fundamentals/Checking Python Installation Project/.git/objects/1f\nDirectories: []\nFile: ['c3b51d98ed2d774f5dafe0be4314b610ac4f7e']\n\nCurrent Path: /Users/juliareich/Desktop/Comp Sci Fundamentals/Checking Python Installation Project/.git/objects/7b\nDirectories: []\nFile: ['3fbb2c1efba154d4b533a94dac659a7f63f418']\n\nCurrent Path: /Users/juliareich/Desktop/Comp Sci Fundamentals/Checking Python Installation Project/.git/objects/info\nDirectories: []\nFile: []\n\nCurrent Path: /Users/juliareich/Desktop/Comp Sci Fundamentals/Checking Python Installation Project/.git/objects/6d\nDirectories: []\nFile: ['0299292cf021098e1f626d823082b3ebbc6228']\n\nCurrent Path: /Users/juliareich/Desktop/Comp Sci Fundamentals/Checking Python Installation Project/.git/objects/55\nDirectories: []\nFile: ['cac3572938c84afebd5076a1dac83f698329a1']\n\nCurrent Path: /Users/juliareich/Desktop/Comp Sci Fundamentals/Checking Python Installation Project/.git/objects/b6\nDirectories: []\nFile: ['863b5cc066988af904791f74b2597d6de6ad7e']\n\nCurrent Path: /Users/juliareich/Desktop/Comp Sci Fundamentals/Checking Python Installation Project/.git/objects/4f\nDirectories: []\nFile: ['116f0250f5b656cc28b8d353fb6a638219d3ed']\n\nCurrent Path: /Users/juliareich/Desktop/Comp Sci Fundamentals/Checking Python Installation Project/.git/objects/8d\nDirectories: []\nFile: ['84ff83e9aab884764ee0861709b38040e439fc']\n\nCurrent Path: /Users/juliareich/Desktop/Comp Sci Fundamentals/Checking Python Installation Project/.git/info\nDirectories: []\nFile: ['exclude']\n\nCurrent Path: /Users/juliareich/Desktop/Comp Sci Fundamentals/Checking Python Installation Project/.git/logs\nDirectories: ['refs']\nFile: ['HEAD']\n\nCurrent Path: /Users/juliareich/Desktop/Comp Sci Fundamentals/Checking Python Installation Project/.git/logs/refs\nDirectories: ['heads', 'remotes']\nFile: []\n\nCurrent Path: /Users/juliareich/Desktop/Comp Sci Fundamentals/Checking Python Installation Project/.git/logs/refs/heads\nDirectories: []\nFile: ['master']\n\nCurrent Path: /Users/juliareich/Desktop/Comp Sci Fundamentals/Checking Python Installation Project/.git/logs/refs/remotes\nDirectories: ['origin']\nFile: []\n\nCurrent Path: /Users/juliareich/Desktop/Comp Sci Fundamentals/Checking Python Installation Project/.git/logs/refs/remotes/origin\nDirectories: []\nFile: ['master']\n\nCurrent Path: /Users/juliareich/Desktop/Comp Sci Fundamentals/Checking Python Installation Project/.git/hooks\nDirectories: []\nFile: ['commit-msg.sample', 'pre-rebase.sample', 'pre-commit.sample', 'applypatch-msg.sample', 'fsmonitor-watchman.sample', 'pre-receive.sample', 'prepare-commit-msg.sample', 'post-update.sample', 'pre-merge-commit.sample', 'pre-applypatch.sample', 'pre-push.sample', 'update.sample']\n\nCurrent Path: /Users/juliareich/Desktop/Comp Sci Fundamentals/Checking Python Installation Project/.git/refs\nDirectories: ['heads', 'tags', 'remotes']\nFile: []\n\nCurrent Path: /Users/juliareich/Desktop/Comp Sci Fundamentals/Checking Python Installation Project/.git/refs/heads\nDirectories: []\nFile: ['master']\n\nCurrent Path: /Users/juliareich/Desktop/Comp Sci Fundamentals/Checking Python Installation Project/.git/refs/tags\nDirectories: []\nFile: []\n\nCurrent Path: /Users/juliareich/Desktop/Comp Sci Fundamentals/Checking Python Installation Project/.git/refs/remotes\nDirectories: ['origin']\nFile: []\n\nCurrent Path: /Users/juliareich/Desktop/Comp Sci Fundamentals/Checking Python Installation Project/.git/refs/remotes/origin\nDirectories: []\nFile: ['master']\n\nCurrent Path: /Users/juliareich/Desktop/Comp Sci Fundamentals/myProject\nDirectories: ['Comp-Sci-Fun', '.git']\nFile: ['.DS_Store', 'myName.txt']\n\nCurrent Path: /Users/juliareich/Desktop/Comp Sci Fundamentals/myProject/Comp-Sci-Fun\nDirectories: ['.git']\nFile: ['pythonproject.py', 'myName.txt']\n\nCurrent Path: /Users/juliareich/Desktop/Comp Sci Fundamentals/myProject/Comp-Sci-Fun/.git\nDirectories: ['objects', 'info', 'logs', 'hooks', 'refs']\nFile: ['config', 'HEAD', 'description', 'index', 'packed-refs', 'COMMIT_EDITMSG']\n\nCurrent Path: /Users/juliareich/Desktop/Comp Sci Fundamentals/myProject/Comp-Sci-Fun/.git/objects\nDirectories: ['pack', '80', '72', 'info', '65', '54', '5e', 'e6', 'f9', '8d', '8c']\nFile: []\n\nCurrent Path: /Users/juliareich/Desktop/Comp Sci Fundamentals/myProject/Comp-Sci-Fun/.git/objects/pack\nDirectories: []\nFile: []\n\nCurrent Path: /Users/juliareich/Desktop/Comp Sci Fundamentals/myProject/Comp-Sci-Fun/.git/objects/80\nDirectories: []\nFile: ['ce4614f21849d2285b2992e78fb92aa219195e']\n\nCurrent Path: /Users/juliareich/Desktop/Comp Sci Fundamentals/myProject/Comp-Sci-Fun/.git/objects/72\nDirectories: []\nFile: ['2b89b121b5d4b5ec1d8eb681b8277cd5515c7f']\n\nCurrent Path: /Users/juliareich/Desktop/Comp Sci Fundamentals/myProject/Comp-Sci-Fun/.git/objects/info\nDirectories: []\nFile: []\n\nCurrent Path: /Users/juliareich/Desktop/Comp Sci Fundamentals/myProject/Comp-Sci-Fun/.git/objects/65\nDirectories: []\nFile: ['892deb6b8720e55116b082660d9ae9c0ead07f']\n\nCurrent Path: /Users/juliareich/Desktop/Comp Sci Fundamentals/myProject/Comp-Sci-Fun/.git/objects/54\nDirectories: []\nFile: ['4b554a55a9258c1d1ecdcab07ffd81d055ab2e']\n\nCurrent Path: /Users/juliareich/Desktop/Comp Sci Fundamentals/myProject/Comp-Sci-Fun/.git/objects/5e\nDirectories: []\nFile: ['ace358f9b8f37aa2baf65d3e94f2479c64732f']\n\nCurrent Path: /Users/juliareich/Desktop/Comp Sci Fundamentals/myProject/Comp-Sci-Fun/.git/objects/e6\nDirectories: []\nFile: ['ca4db0baacbc3b11606ad92e36d94bfdd5a38d']\n\nCurrent Path: /Users/juliareich/Desktop/Comp Sci Fundamentals/myProject/Comp-Sci-Fun/.git/objects/f9\nDirectories: []\nFile: ['ce2fdd64c9a1efcf3c1b8d2f4d24ab1fd09ec8']\n\nCurrent Path: /Users/juliareich/Desktop/Comp Sci Fundamentals/myProject/Comp-Sci-Fun/.git/objects/8d\nDirectories: []\nFile: ['ee158d940821fc21386963a23f705c72d27d85']\n\nCurrent Path: /Users/juliareich/Desktop/Comp Sci Fundamentals/myProject/Comp-Sci-Fun/.git/objects/8c\nDirectories: []\nFile: ['7d0488b644b7cab66a59e15e424e1674c31352']\n\nCurrent Path: /Users/juliareich/Desktop/Comp Sci Fundamentals/myProject/Comp-Sci-Fun/.git/info\nDirectories: []\nFile: ['exclude']\n\nCurrent Path: /Users/juliareich/Desktop/Comp Sci Fundamentals/myProject/Comp-Sci-Fun/.git/logs\nDirectories: ['refs']\nFile: ['HEAD']\n\nCurrent Path: /Users/juliareich/Desktop/Comp Sci Fundamentals/myProject/Comp-Sci-Fun/.git/logs/refs\nDirectories: ['heads', 'remotes']\nFile: []\n\nCurrent Path: /Users/juliareich/Desktop/Comp Sci Fundamentals/myProject/Comp-Sci-Fun/.git/logs/refs/heads\nDirectories: []\nFile: ['master']\n\nCurrent Path: /Users/juliareich/Desktop/Comp Sci Fundamentals/myProject/Comp-Sci-Fun/.git/logs/refs/remotes\nDirectories: ['origin']\nFile: []\n\nCurrent Path: /Users/juliareich/Desktop/Comp Sci Fundamentals/myProject/Comp-Sci-Fun/.git/logs/refs/remotes/origin\nDirectories: []\nFile: ['HEAD', 'master']\n\nCurrent Path: /Users/juliareich/Desktop/Comp Sci Fundamentals/myProject/Comp-Sci-Fun/.git/hooks\nDirectories: []\nFile: ['commit-msg.sample', 'pre-rebase.sample', 'pre-commit.sample', 'applypatch-msg.sample', 'fsmonitor-watchman.sample', 'pre-receive.sample', 'prepare-commit-msg.sample', 'post-update.sample', 'pre-merge-commit.sample', 'pre-applypatch.sample', 'pre-push.sample', 'update.sample']\n\nCurrent Path: /Users/juliareich/Desktop/Comp Sci Fundamentals/myProject/Comp-Sci-Fun/.git/refs\nDirectories: ['heads', 'tags', 'remotes']\nFile: []\n\nCurrent Path: /Users/juliareich/Desktop/Comp Sci Fundamentals/myProject/Comp-Sci-Fun/.git/refs/heads\nDirectories: []\nFile: ['master']\n\nCurrent Path: /Users/juliareich/Desktop/Comp Sci Fundamentals/myProject/Comp-Sci-Fun/.git/refs/tags\nDirectories: []\nFile: []\n\nCurrent Path: /Users/juliareich/Desktop/Comp Sci Fundamentals/myProject/Comp-Sci-Fun/.git/refs/remotes\nDirectories: ['origin']\nFile: []\n\nCurrent Path: /Users/juliareich/Desktop/Comp Sci Fundamentals/myProject/Comp-Sci-Fun/.git/refs/remotes/origin\nDirectories: []\nFile: ['HEAD', 'master']\n\nCurrent Path: /Users/juliareich/Desktop/Comp Sci Fundamentals/myProject/.git\nDirectories: ['objects', 'info', 'logs', 'hooks', 'refs']\nFile: ['config', 'HEAD', 'description', 'index', 'COMMIT_EDITMSG']\n\nCurrent Path: /Users/juliareich/Desktop/Comp Sci Fundamentals/myProject/.git/objects\nDirectories: ['pack', '80', 'info', '65', '8d']\nFile: []\n\nCurrent Path: /Users/juliareich/Desktop/Comp Sci Fundamentals/myProject/.git/objects/pack\nDirectories: []\nFile: []\n\nCurrent Path: /Users/juliareich/Desktop/Comp Sci Fundamentals/myProject/.git/objects/80\nDirectories: []\nFile: ['ce4614f21849d2285b2992e78fb92aa219195e']\n\nCurrent Path: /Users/juliareich/Desktop/Comp Sci Fundamentals/myProject/.git/objects/info\nDirectories: []\nFile: []\n\nCurrent Path: /Users/juliareich/Desktop/Comp Sci Fundamentals/myProject/.git/objects/65\nDirectories: []\nFile: ['892deb6b8720e55116b082660d9ae9c0ead07f']\n\nCurrent Path: /Users/juliareich/Desktop/Comp Sci Fundamentals/myProject/.git/objects/8d\nDirectories: []\nFile: ['ee158d940821fc21386963a23f705c72d27d85']\n\nCurrent Path: /Users/juliareich/Desktop/Comp Sci Fundamentals/myProject/.git/info\nDirectories: []\nFile: ['exclude']\n\nCurrent Path: /Users/juliareich/Desktop/Comp Sci Fundamentals/myProject/.git/logs\nDirectories: ['refs']\nFile: ['HEAD']\n\nCurrent Path: /Users/juliareich/Desktop/Comp Sci Fundamentals/myProject/.git/logs/refs\nDirectories: ['heads', 'remotes']\nFile: []\n\nCurrent Path: /Users/juliareich/Desktop/Comp Sci Fundamentals/myProject/.git/logs/refs/heads\nDirectories: []\nFile: ['master']\n\nCurrent Path: /Users/juliareich/Desktop/Comp Sci Fundamentals/myProject/.git/logs/refs/remotes\nDirectories: ['origin']\nFile: []\n\nCurrent Path: /Users/juliareich/Desktop/Comp Sci Fundamentals/myProject/.git/logs/refs/remotes/origin\nDirectories: []\nFile: ['master']\n\nCurrent Path: /Users/juliareich/Desktop/Comp Sci Fundamentals/myProject/.git/hooks\nDirectories: []\nFile: ['commit-msg.sample', 'pre-rebase.sample', 'pre-commit.sample', 'applypatch-msg.sample', 'fsmonitor-watchman.sample', 'pre-receive.sample', 'prepare-commit-msg.sample', 'post-update.sample', 'pre-merge-commit.sample', 'pre-applypatch.sample', 'pre-push.sample', 'update.sample']\n\nCurrent Path: /Users/juliareich/Desktop/Comp Sci Fundamentals/myProject/.git/refs\nDirectories: ['heads', 'tags', 'remotes']\nFile: []\n\nCurrent Path: /Users/juliareich/Desktop/Comp Sci Fundamentals/myProject/.git/refs/heads\nDirectories: []\nFile: ['master']\n\nCurrent Path: /Users/juliareich/Desktop/Comp Sci Fundamentals/myProject/.git/refs/tags\nDirectories: []\nFile: []\n\nCurrent Path: /Users/juliareich/Desktop/Comp Sci Fundamentals/myProject/.git/refs/remotes\nDirectories: ['origin']\nFile: []\n\nCurrent Path: /Users/juliareich/Desktop/Comp Sci Fundamentals/myProject/.git/refs/remotes/origin\nDirectories: []\nFile: ['master']\n\nCurrent Path: /Users/juliareich/Desktop/Comp Sci Fundamentals/Anaconda Packages Assignment\nDirectories: ['.git']\nFile: ['.DS_Store', 'README.md']\n\nCurrent Path: /Users/juliareich/Desktop/Comp Sci Fundamentals/Anaconda Packages Assignment/.git\nDirectories: ['objects', 'info', 'logs', 'hooks', 'refs']\nFile: ['config', 'HEAD', 'description', 'index', 'COMMIT_EDITMSG', 'FETCH_HEAD']\n\nCurrent Path: /Users/juliareich/Desktop/Comp Sci Fundamentals/Anaconda Packages Assignment/.git/objects\nDirectories: ['d9', 'ae', 'ed', 'pack', '11', '7d', '8a', '00', 'info', '5b', '99', '7a', '14']\nFile: []\n\nCurrent Path: /Users/juliareich/Desktop/Comp Sci Fundamentals/Anaconda Packages Assignment/.git/objects/d9\nDirectories: []\nFile: ['7f55dc2d6f8a549f53a5293d029f6c8423a1e2']\n\nCurrent Path: /Users/juliareich/Desktop/Comp Sci Fundamentals/Anaconda Packages Assignment/.git/objects/ae\nDirectories: []\nFile: ['bda57563d9de1c3e930efc2f08c328848f1815']\n\nCurrent Path: /Users/juliareich/Desktop/Comp Sci Fundamentals/Anaconda Packages Assignment/.git/objects/ed\nDirectories: []\nFile: ['54b053a11fdffb7adeabbc995ff10ef08cdc85', '43d590fda92de85bf720f02f9ef295affc9d78']\n\nCurrent Path: /Users/juliareich/Desktop/Comp Sci Fundamentals/Anaconda Packages Assignment/.git/objects/pack\nDirectories: []\nFile: []\n\nCurrent Path: /Users/juliareich/Desktop/Comp Sci Fundamentals/Anaconda Packages Assignment/.git/objects/11\nDirectories: []\nFile: ['8f37f67b996ca0b7a15aefdbd7ef780682017f']\n\nCurrent Path: /Users/juliareich/Desktop/Comp Sci Fundamentals/Anaconda Packages Assignment/.git/objects/7d\nDirectories: []\nFile: ['ba025a3a67be5e27faf1dc463748931f414ea5']\n\nCurrent Path: /Users/juliareich/Desktop/Comp Sci Fundamentals/Anaconda Packages Assignment/.git/objects/8a\nDirectories: []\nFile: ['8ca0c1a2621a9a5afa6b870b5bf6d68d3eb2dc']\n\nCurrent Path: /Users/juliareich/Desktop/Comp Sci Fundamentals/Anaconda Packages Assignment/.git/objects/00\nDirectories: []\nFile: ['8540c1a1b9d16e4d369e3226a189d547f15cf5']\n\nCurrent Path: /Users/juliareich/Desktop/Comp Sci Fundamentals/Anaconda Packages Assignment/.git/objects/info\nDirectories: []\nFile: []\n\nCurrent Path: /Users/juliareich/Desktop/Comp Sci Fundamentals/Anaconda Packages Assignment/.git/objects/5b\nDirectories: []\nFile: ['e56b7f0a2caacf7788d264eb776c4ddfc8ac43']\n\nCurrent Path: /Users/juliareich/Desktop/Comp Sci Fundamentals/Anaconda Packages Assignment/.git/objects/99\nDirectories: []\nFile: ['14633a5d511c6df396c6dadb16f21a0baaaa83']\n\nCurrent Path: /Users/juliareich/Desktop/Comp Sci Fundamentals/Anaconda Packages Assignment/.git/objects/7a\nDirectories: []\nFile: ['573bd7c373fd1e5955446a9a5fe1eb38650d0b']\n\nCurrent Path: /Users/juliareich/Desktop/Comp Sci Fundamentals/Anaconda Packages Assignment/.git/objects/14\nDirectories: []\nFile: ['b57903ce264434785db847d5bec8f59a9655eb']\n\nCurrent Path: /Users/juliareich/Desktop/Comp Sci Fundamentals/Anaconda Packages Assignment/.git/info\nDirectories: []\nFile: ['exclude']\n\nCurrent Path: /Users/juliareich/Desktop/Comp Sci Fundamentals/Anaconda Packages Assignment/.git/logs\nDirectories: ['refs']\nFile: ['HEAD']\n\nCurrent Path: /Users/juliareich/Desktop/Comp Sci Fundamentals/Anaconda Packages Assignment/.git/logs/refs\nDirectories: ['heads', 'remotes']\nFile: []\n\nCurrent Path: /Users/juliareich/Desktop/Comp Sci Fundamentals/Anaconda Packages Assignment/.git/logs/refs/heads\nDirectories: []\nFile: ['master']\n\nCurrent Path: /Users/juliareich/Desktop/Comp Sci Fundamentals/Anaconda Packages Assignment/.git/logs/refs/remotes\nDirectories: ['origin']\nFile: []\n\nCurrent Path: /Users/juliareich/Desktop/Comp Sci Fundamentals/Anaconda Packages Assignment/.git/logs/refs/remotes/origin\nDirectories: []\nFile: ['master']\n\nCurrent Path: /Users/juliareich/Desktop/Comp Sci Fundamentals/Anaconda Packages Assignment/.git/hooks\nDirectories: []\nFile: ['commit-msg.sample', 'pre-rebase.sample', 'pre-commit.sample', 'applypatch-msg.sample', 'fsmonitor-watchman.sample', 'pre-receive.sample', 'prepare-commit-msg.sample', 'post-update.sample', 'pre-merge-commit.sample', 'pre-applypatch.sample', 'pre-push.sample', 'update.sample']\n\nCurrent Path: /Users/juliareich/Desktop/Comp Sci Fundamentals/Anaconda Packages Assignment/.git/refs\nDirectories: ['heads', 'tags', 'remotes']\nFile: []\n\nCurrent Path: /Users/juliareich/Desktop/Comp Sci Fundamentals/Anaconda Packages Assignment/.git/refs/heads\nDirectories: []\nFile: ['master']\n\nCurrent Path: /Users/juliareich/Desktop/Comp Sci Fundamentals/Anaconda Packages Assignment/.git/refs/tags\nDirectories: []\nFile: []\n\nCurrent Path: /Users/juliareich/Desktop/Comp Sci Fundamentals/Anaconda Packages Assignment/.git/refs/remotes\nDirectories: ['origin']\nFile: []\n\nCurrent Path: /Users/juliareich/Desktop/Comp Sci Fundamentals/Anaconda Packages Assignment/.git/refs/remotes/origin\nDirectories: []\nFile: ['master']\n\nCurrent Path: /Users/juliareich/Desktop/Comp Sci Fundamentals/.vscode\nDirectories: []\nFile: ['settings.json']\n\nCurrent Path: /Users/juliareich/Desktop/Comp Sci Fundamentals/exerPythModPackTutorial\nDirectories: ['.git']\nFile: ['README.md']\n\nCurrent Path: /Users/juliareich/Desktop/Comp Sci Fundamentals/exerPythModPackTutorial/.git\nDirectories: ['objects', 'info', 'logs', 'hooks', 'refs']\nFile: ['config', 'HEAD', 'description', 'index', 'packed-refs']\n\nCurrent Path: /Users/juliareich/Desktop/Comp Sci Fundamentals/exerPythModPackTutorial/.git/objects\nDirectories: ['67', '02', 'ec', 'pack', '42', '36', 'info', '96', 'e1', 'e6', '12']\nFile: []\n\nCurrent Path: /Users/juliareich/Desktop/Comp Sci Fundamentals/exerPythModPackTutorial/.git/objects/67\nDirectories: []\nFile: ['39e495cab74d6dd6dd2e16ce50bc3f0a34e4b0']\n\nCurrent Path: /Users/juliareich/Desktop/Comp Sci Fundamentals/exerPythModPackTutorial/.git/objects/02\nDirectories: []\nFile: ['db4bd5b182cee553fa75bd6a80969d9501517d']\n\nCurrent Path: /Users/juliareich/Desktop/Comp Sci Fundamentals/exerPythModPackTutorial/.git/objects/ec\nDirectories: []\nFile: ['9de5fc582dd33fb17844f6b9909ec3af58bb58']\n\nCurrent Path: /Users/juliareich/Desktop/Comp Sci Fundamentals/exerPythModPackTutorial/.git/objects/pack\nDirectories: []\nFile: []\n\nCurrent Path: /Users/juliareich/Desktop/Comp Sci Fundamentals/exerPythModPackTutorial/.git/objects/42\nDirectories: []\nFile: ['37db1982fc10645a3e7d83677858930b3ea266']\n\nCurrent Path: /Users/juliareich/Desktop/Comp Sci Fundamentals/exerPythModPackTutorial/.git/objects/36\nDirectories: []\nFile: ['4701a2c3c1b5e787165bffc8fb943fdfe66111']\n\nCurrent Path: /Users/juliareich/Desktop/Comp Sci Fundamentals/exerPythModPackTutorial/.git/objects/info\nDirectories: []\nFile: []\n\nCurrent Path: /Users/juliareich/Desktop/Comp Sci Fundamentals/exerPythModPackTutorial/.git/objects/96\nDirectories: []\nFile: ['cacd7d38d7f780ec89e35a4797e7190fe3a860']\n\nCurrent Path: /Users/juliareich/Desktop/Comp Sci Fundamentals/exerPythModPackTutorial/.git/objects/e1\nDirectories: []\nFile: ['1b5f36f6a6ad67486c7f8920428af469fd91a5']\n\nCurrent Path: /Users/juliareich/Desktop/Comp Sci Fundamentals/exerPythModPackTutorial/.git/objects/e6\nDirectories: []\nFile: ['dc6692e29557b8b66f7f131ed17f87603332f9']\n\nCurrent Path: /Users/juliareich/Desktop/Comp Sci Fundamentals/exerPythModPackTutorial/.git/objects/12\nDirectories: []\nFile: ['2694a209deeefb2614dc8ffd9ae023dbb481aa']\n\nCurrent Path: /Users/juliareich/Desktop/Comp Sci Fundamentals/exerPythModPackTutorial/.git/info\nDirectories: []\nFile: ['exclude']\n\nCurrent Path: /Users/juliareich/Desktop/Comp Sci Fundamentals/exerPythModPackTutorial/.git/logs\nDirectories: ['refs']\nFile: ['HEAD']\n\nCurrent Path: /Users/juliareich/Desktop/Comp Sci Fundamentals/exerPythModPackTutorial/.git/logs/refs\nDirectories: ['heads', 'remotes']\nFile: []\n\nCurrent Path: /Users/juliareich/Desktop/Comp Sci Fundamentals/exerPythModPackTutorial/.git/logs/refs/heads\nDirectories: []\nFile: ['master']\n\nCurrent Path: /Users/juliareich/Desktop/Comp Sci Fundamentals/exerPythModPackTutorial/.git/logs/refs/remotes\nDirectories: ['origin']\nFile: []\n\nCurrent Path: /Users/juliareich/Desktop/Comp Sci Fundamentals/exerPythModPackTutorial/.git/logs/refs/remotes/origin\nDirectories: []\nFile: ['HEAD']\n\nCurrent Path: /Users/juliareich/Desktop/Comp Sci Fundamentals/exerPythModPackTutorial/.git/hooks\nDirectories: []\nFile: ['commit-msg.sample', 'pre-rebase.sample', 'pre-commit.sample', 'applypatch-msg.sample', 'fsmonitor-watchman.sample', 'pre-receive.sample', 'prepare-commit-msg.sample', 'post-update.sample', 'pre-merge-commit.sample', 'pre-applypatch.sample', 'pre-push.sample', 'update.sample']\n\nCurrent Path: /Users/juliareich/Desktop/Comp Sci Fundamentals/exerPythModPackTutorial/.git/refs\nDirectories: ['heads', 'tags', 'remotes']\nFile: []\n\nCurrent Path: /Users/juliareich/Desktop/Comp Sci Fundamentals/exerPythModPackTutorial/.git/refs/heads\nDirectories: []\nFile: ['master']\n\nCurrent Path: /Users/juliareich/Desktop/Comp Sci Fundamentals/exerPythModPackTutorial/.git/refs/tags\nDirectories: []\nFile: []\n\nCurrent Path: /Users/juliareich/Desktop/Comp Sci Fundamentals/exerPythModPackTutorial/.git/refs/remotes\nDirectories: ['origin']\nFile: []\n\nCurrent Path: /Users/juliareich/Desktop/Comp Sci Fundamentals/exerPythModPackTutorial/.git/refs/remotes/origin\nDirectories: []\nFile: ['HEAD']\n\nCurrent Path: /Users/juliareich/Desktop/sqlite-tools-osx-x86-3300100\nDirectories: []\nFile: ['sqldiff', 'sqlite3', 'sqlite3_analyzer']\n\n"
    }
   ],
   "source": [
    "os.chdir('/Users/juliareich/Desktop/')\n",
    "\n",
    "for dirpath, dirnames, filenames in os.walk('/Users/juliareich/Desktop/'):\n",
    "    print('Current Path:', dirpath)\n",
    "    print('Directories:', dirnames)\n",
    "    print('File:', filenames)\n",
    "    print()"
   ]
  },
  {
   "cell_type": "code",
   "execution_count": 13,
   "metadata": {
    "tags": []
   },
   "outputs": [
    {
     "output_type": "stream",
     "name": "stdout",
     "text": "/Users/juliareich\n"
    }
   ],
   "source": [
    "print(os.environ.get('HOME'))"
   ]
  },
  {
   "cell_type": "code",
   "execution_count": 15,
   "metadata": {
    "tags": []
   },
   "outputs": [
    {
     "output_type": "stream",
     "name": "stdout",
     "text": "/Users/juliareich/test.txt\n"
    }
   ],
   "source": [
    "file_path = os.path.join(os.environ.get('HOME'),'test.txt')\n",
    "print(file_path)"
   ]
  },
  {
   "cell_type": "code",
   "execution_count": 16,
   "metadata": {
    "tags": []
   },
   "outputs": [
    {
     "output_type": "stream",
     "name": "stdout",
     "text": "test.txt\n"
    }
   ],
   "source": [
    "print(os.path.basename('/tmp/test.txt'))"
   ]
  },
  {
   "cell_type": "code",
   "execution_count": 17,
   "metadata": {
    "tags": []
   },
   "outputs": [
    {
     "output_type": "stream",
     "name": "stdout",
     "text": "/tmp\n"
    }
   ],
   "source": [
    "print(os.path.dirname('/tmp/test.txt'))"
   ]
  },
  {
   "cell_type": "code",
   "execution_count": 18,
   "metadata": {
    "tags": []
   },
   "outputs": [
    {
     "output_type": "stream",
     "name": "stdout",
     "text": "('/tmp', 'test.txt')\n"
    }
   ],
   "source": [
    "print(os.path.split('/tmp/test.txt'))"
   ]
  },
  {
   "cell_type": "code",
   "execution_count": 19,
   "metadata": {
    "tags": []
   },
   "outputs": [
    {
     "output_type": "stream",
     "name": "stdout",
     "text": "False\n"
    }
   ],
   "source": [
    "print(os.path.exists('/tmp/test.txt'))"
   ]
  },
  {
   "cell_type": "code",
   "execution_count": 20,
   "metadata": {
    "tags": []
   },
   "outputs": [
    {
     "output_type": "stream",
     "name": "stdout",
     "text": "False\n"
    }
   ],
   "source": [
    "print(os.path.isdir('/tmp/test.txt'))"
   ]
  },
  {
   "cell_type": "code",
   "execution_count": 21,
   "metadata": {
    "tags": []
   },
   "outputs": [
    {
     "output_type": "stream",
     "name": "stdout",
     "text": "False\n"
    }
   ],
   "source": [
    "print(os.path.isfile('/tmp/test.txt'))"
   ]
  },
  {
   "cell_type": "code",
   "execution_count": 22,
   "metadata": {
    "tags": []
   },
   "outputs": [
    {
     "output_type": "stream",
     "name": "stdout",
     "text": "('/tmp/test', '.txt')\n"
    }
   ],
   "source": [
    "print(os.path.splitext('/tmp/test.txt'))"
   ]
  },
  {
   "cell_type": "code",
   "execution_count": null,
   "metadata": {},
   "outputs": [],
   "source": [
    "#https://docs.python.org/3/\n",
    "\n",
    "#https://docs.python.org/3/library/os.html\n"
   ]
  }
 ]
}